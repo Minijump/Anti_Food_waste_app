{
 "cells": [
  {
   "attachments": {},
   "cell_type": "markdown",
   "metadata": {},
   "source": [
    "# Create stock\n",
    "\n",
    "We created a database called Supermarket.db in the previous notebook, this data base contains 2 tables: Recipe and Ingredients.In this notebook we will analyse the tables and then create a table with the stocks of a supermarket, containing the id of the product, the quantity and their expiration date."
   ]
  },
  {
   "attachments": {},
   "cell_type": "markdown",
   "metadata": {},
   "source": [
    "## Analyse the __Ingredients__ table\n",
    "The table is quiet small so I will import it with sql than analyse it in pandas."
   ]
  },
  {
   "attachments": {},
   "cell_type": "markdown",
   "metadata": {},
   "source": [
    "### import the table"
   ]
  },
  {
   "cell_type": "code",
   "execution_count": 1,
   "metadata": {},
   "outputs": [],
   "source": [
    "import sqlite3\n",
    "import pandas as pd"
   ]
  },
  {
   "cell_type": "code",
   "execution_count": 2,
   "metadata": {},
   "outputs": [],
   "source": [
    "conn = sqlite3.connect('../Data/Supermarket.db')\n",
    "\n",
    "query = \"SELECT * FROM Ingredients\"\n",
    "\n",
    "df = pd.read_sql_query(query, conn)\n",
    "\n",
    "conn.commit()\n",
    "conn.close()"
   ]
  },
  {
   "attachments": {},
   "cell_type": "markdown",
   "metadata": {},
   "source": [
    "### Analyse the table"
   ]
  },
  {
   "cell_type": "code",
   "execution_count": 3,
   "metadata": {},
   "outputs": [
    {
     "data": {
      "text/plain": [
       "94"
      ]
     },
     "execution_count": 3,
     "metadata": {},
     "output_type": "execute_result"
    }
   ],
   "source": [
    "df['aisle'].nunique()"
   ]
  },
  {
   "attachments": {},
   "cell_type": "markdown",
   "metadata": {},
   "source": [
    "There is a total of 94 differents aisle. Ideally we would analyse them one by one to be able to have a coherent expiration date. It would also give us information about the ecological impact. Indeed, throwing 1 kg of meat as not the same impact than 1 salad. However this would take an incredible amount of time and the goal here is not necesseraly to have an app working in real life, I would need a real database to do it."
   ]
  },
  {
   "cell_type": "code",
   "execution_count": 4,
   "metadata": {},
   "outputs": [
    {
     "data": {
      "text/html": [
       "<div>\n",
       "<style scoped>\n",
       "    .dataframe tbody tr th:only-of-type {\n",
       "        vertical-align: middle;\n",
       "    }\n",
       "\n",
       "    .dataframe tbody tr th {\n",
       "        vertical-align: top;\n",
       "    }\n",
       "\n",
       "    .dataframe thead th {\n",
       "        text-align: right;\n",
       "    }\n",
       "</style>\n",
       "<table border=\"1\" class=\"dataframe\">\n",
       "  <thead>\n",
       "    <tr style=\"text-align: right;\">\n",
       "      <th></th>\n",
       "      <th>id</th>\n",
       "      <th>aisle</th>\n",
       "      <th>name</th>\n",
       "    </tr>\n",
       "  </thead>\n",
       "  <tbody>\n",
       "  </tbody>\n",
       "</table>\n",
       "</div>"
      ],
      "text/plain": [
       "Empty DataFrame\n",
       "Columns: [id, aisle, name]\n",
       "Index: []"
      ]
     },
     "execution_count": 4,
     "metadata": {},
     "output_type": "execute_result"
    }
   ],
   "source": [
    "df[df['name'].duplicated()] #all names are unique too"
   ]
  },
  {
   "cell_type": "code",
   "execution_count": 5,
   "metadata": {},
   "outputs": [],
   "source": [
    "#will be used later\n",
    "ingr_id = df['id'].unique()"
   ]
  },
  {
   "attachments": {},
   "cell_type": "markdown",
   "metadata": {},
   "source": [
    "## Analyse the __Recipes__ table"
   ]
  },
  {
   "attachments": {},
   "cell_type": "markdown",
   "metadata": {},
   "source": [
    "### import the table"
   ]
  },
  {
   "cell_type": "code",
   "execution_count": 6,
   "metadata": {},
   "outputs": [],
   "source": [
    "conn = sqlite3.connect('../Data/Supermarket.db')\n",
    "\n",
    "query = \"SELECT * FROM Recipes\"\n",
    "\n",
    "df = pd.read_sql_query(query, conn)\n",
    "\n",
    "conn.commit()\n",
    "conn.close()"
   ]
  },
  {
   "attachments": {},
   "cell_type": "markdown",
   "metadata": {},
   "source": [
    "### Analyse it"
   ]
  },
  {
   "attachments": {},
   "cell_type": "markdown",
   "metadata": {},
   "source": [
    "We would like to have informations on what units of measures are used."
   ]
  },
  {
   "cell_type": "code",
   "execution_count": 7,
   "metadata": {},
   "outputs": [],
   "source": [
    "import ast\n",
    "\n",
    "def get_unit(ingredients: str) -> list:\n",
    "    \"\"\" \n",
    "    ingredients is a list of dictionnaries but is has the type of a string.\n",
    "    for each dictionnaries contained in ingredients, keep only the keys: unit\n",
    "    return the cleaned list of dictionnaries.\n",
    "    \"\"\"\n",
    "    ingredients = ast.literal_eval(ingredients) #the column contains string, we want it to be a list\n",
    "    cleaned_list = []\n",
    "\n",
    "    for ingredient in ingredients:\n",
    "        cleaned_dict = {key: value for key, value in ingredient.items() if key in ['unit']}\n",
    "        cleaned_list.append(cleaned_dict)\n",
    "\n",
    "    return cleaned_list"
   ]
  },
  {
   "cell_type": "code",
   "execution_count": 8,
   "metadata": {},
   "outputs": [],
   "source": [
    "all_units_duplicate = df['ingredients'].apply(get_unit)\n",
    "\n",
    "\n",
    "list_unit = []\n",
    "\n",
    "for recipe in all_units_duplicate:\n",
    "    for unit in recipe:\n",
    "        if unit['unit'] in list_unit:\n",
    "            continue\n",
    "        else:\n",
    "            list_unit.append(unit['unit'])"
   ]
  },
  {
   "cell_type": "code",
   "execution_count": 9,
   "metadata": {},
   "outputs": [
    {
     "data": {
      "text/plain": [
       "161"
      ]
     },
     "execution_count": 9,
     "metadata": {},
     "output_type": "execute_result"
    }
   ],
   "source": [
    "len(list_unit)"
   ]
  },
  {
   "attachments": {},
   "cell_type": "markdown",
   "metadata": {},
   "source": [
    "There are a total of 162 differents unit. Some are the same (tablespoon = tablespoon), some are unknown to me, some are empty,... Similarly to above, cleaning it to be able to have a coherent result would take a lot of time. I have so decided that the default value of quantity is 1 and that there is no units.\n",
    "\n",
    "It means that every time a recipe use an ingredient it will use quantity = 1 of this ingedient."
   ]
  },
  {
   "attachments": {},
   "cell_type": "markdown",
   "metadata": {},
   "source": [
    "## Create the table Stocks\n",
    "We will now buid a table representing the stocks of a supermarket. 'Expiration date' will be replace by 'urgent', whic is an int between 1 and 5 (inluded), with 5 representing a product that is really close to its expiration date, 1 very far.\n",
    "\n",
    "__TABLE Stocks__:\n",
    "\n",
    "| ingredient_id| urgent          | quantity|\n",
    "|--------------|-----------------|---------|\n",
    "| PRIMARY KEY  | PRIMARY KEY     |         |\n",
    "\n",
    "We have 1235 differents ingredients, the stocks will be created the following way:\n",
    "\n",
    "* 300 lines of urgent = 5, quantity random(1,2), ingredient_id = random\n",
    "* 500 lines of urgent = 4, quantity random(1,3), ingredient_id = random\n",
    "* 800 lines of urgent = 3, quantity random(1,4), ingredient_id = random\n",
    "* 800 lines of urgent = 2, quantity random(1,4), ingredient_id = random\n",
    "* 600 lines of urgent = 1, quantity random(1,3), ingredient_id = random"
   ]
  },
  {
   "cell_type": "code",
   "execution_count": 10,
   "metadata": {},
   "outputs": [],
   "source": [
    "import pandas as pd\n",
    "import numpy as np\n",
    "\n",
    "data = []\n",
    "\n",
    "data.extend([(id, 5, np.random.choice([1, 2])) for id in np.random.choice(ingr_id, size=300, replace=True)])\n",
    "data.extend([(id, 4, np.random.randint(1, 4)) for id in np.random.choice(ingr_id, size=500, replace=True)])\n",
    "data.extend([(id, 3, np.random.randint(1, 5)) for id in np.random.choice(ingr_id, size=800, replace=True)])\n",
    "data.extend([(id, 2, np.random.randint(1, 5)) for id in np.random.choice(ingr_id, size=800, replace=True)])\n",
    "data.extend([(id, 1, np.random.randint(1, 4)) for id in np.random.choice(ingr_id, size=600, replace=True)])\n",
    "\n",
    "df_stocks = pd.DataFrame(data, columns=['ingredient_id', 'urgent', 'quantity'])\n",
    "\n"
   ]
  },
  {
   "cell_type": "code",
   "execution_count": 11,
   "metadata": {},
   "outputs": [],
   "source": [
    "conn = sqlite3.connect('../Data/Supermarket.db')\n",
    "\n",
    "df_stocks.to_sql('Stocks', conn, if_exists='replace', index=False)\n",
    "\n",
    "conn.commit()\n",
    "conn.close()"
   ]
  }
 ],
 "metadata": {
  "kernelspec": {
   "display_name": "Python 3",
   "language": "python",
   "name": "python3"
  },
  "language_info": {
   "codemirror_mode": {
    "name": "ipython",
    "version": 3
   },
   "file_extension": ".py",
   "mimetype": "text/x-python",
   "name": "python",
   "nbconvert_exporter": "python",
   "pygments_lexer": "ipython3",
   "version": "3.11.3"
  },
  "orig_nbformat": 4
 },
 "nbformat": 4,
 "nbformat_minor": 2
}
