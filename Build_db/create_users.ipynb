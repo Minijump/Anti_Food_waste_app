{
 "cells": [
  {
   "attachments": {},
   "cell_type": "markdown",
   "metadata": {},
   "source": [
    "# Create user\n",
    "\n",
    "In this notebook, I will create a table of users. This table will contain the user id (between 1 and 10000) and his favourite recepie (selected randomly)\n",
    "__TABLE Users__:\n",
    "\n",
    "| id           | recepie_id      | \n",
    "|--------------|-----------------|\n",
    "| PRIMARY KEY  |                 |         "
   ]
  },
  {
   "cell_type": "code",
   "execution_count": 12,
   "metadata": {},
   "outputs": [],
   "source": [
    "import pandas as pd\n",
    "import numpy as np\n",
    "import sqlite3"
   ]
  },
  {
   "cell_type": "code",
   "execution_count": 13,
   "metadata": {},
   "outputs": [],
   "source": [
    "# connect to the database, select the ids of the different recepie\n",
    "conn = sqlite3.connect('../Data/Supermarket.db')\n",
    "\n",
    "query = \"SELECT id FROM Recipes\"\n",
    "\n",
    "recepie = pd.read_sql_query(query, conn)\n",
    "\n",
    "conn.commit()\n",
    "conn.close()"
   ]
  },
  {
   "cell_type": "code",
   "execution_count": 14,
   "metadata": {},
   "outputs": [],
   "source": [
    "#build a df of size 10000 with id and random recepie id\n",
    "id = np.arange(1,10001,1)\n",
    "recepie_id = np.random.choice(recepie['id'], size = 10000, replace=True)\n",
    "\n",
    "df_users = pd.DataFrame({'id': id, 'recepie_id': recepie_id})"
   ]
  },
  {
   "cell_type": "code",
   "execution_count": 15,
   "metadata": {},
   "outputs": [],
   "source": [
    "#push this dataset as a table in the db\n",
    "conn = sqlite3.connect('../Data/Supermarket.db')\n",
    "\n",
    "df_users.to_sql('Users', conn, if_exists='replace', index=False)\n",
    "\n",
    "conn.commit()\n",
    "conn.close()"
   ]
  }
 ],
 "metadata": {
  "kernelspec": {
   "display_name": "Python 3",
   "language": "python",
   "name": "python3"
  },
  "language_info": {
   "codemirror_mode": {
    "name": "ipython",
    "version": 3
   },
   "file_extension": ".py",
   "mimetype": "text/x-python",
   "name": "python",
   "nbconvert_exporter": "python",
   "pygments_lexer": "ipython3",
   "version": "3.11.3"
  },
  "orig_nbformat": 4
 },
 "nbformat": 4,
 "nbformat_minor": 2
}
