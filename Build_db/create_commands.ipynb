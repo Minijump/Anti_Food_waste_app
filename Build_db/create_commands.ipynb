{
 "cells": [
  {
   "attachments": {},
   "cell_type": "markdown",
   "metadata": {},
   "source": [
    "# creation of command history\n",
    "this notebook will create an historic of command, each lines represent an user which commanded a recipe\n",
    "\n",
    "__TABLE Command__:\n",
    "\n",
    "| user_id           | recepie_id      | \n",
    "|-------------------|-----------------|\n",
    "|PRIMARY KEY        |PRIMARY KEY      | \n",
    "\n",
    "Those transaction won't be created randomly, I will use the favourite recepie of the user, TF-IDF on the description of this recepie and all the others, and a random factor to select which recepie the user commanded."
   ]
  },
  {
   "attachments": {},
   "cell_type": "markdown",
   "metadata": {},
   "source": [
    "## build the distance matrix\n",
    "we will use the recepie instructions and summary to be able to determine which are closer to the others with tf-idf"
   ]
  },
  {
   "cell_type": "code",
   "execution_count": 94,
   "metadata": {},
   "outputs": [],
   "source": [
    "import sqlite3\n",
    "import pandas as pd\n",
    "from bs4 import BeautifulSoup"
   ]
  },
  {
   "attachments": {},
   "cell_type": "markdown",
   "metadata": {},
   "source": [
    "get the data from the db:"
   ]
  },
  {
   "cell_type": "code",
   "execution_count": 95,
   "metadata": {},
   "outputs": [
    {
     "data": {
      "text/html": [
       "<div>\n",
       "<style scoped>\n",
       "    .dataframe tbody tr th:only-of-type {\n",
       "        vertical-align: middle;\n",
       "    }\n",
       "\n",
       "    .dataframe tbody tr th {\n",
       "        vertical-align: top;\n",
       "    }\n",
       "\n",
       "    .dataframe thead th {\n",
       "        text-align: right;\n",
       "    }\n",
       "</style>\n",
       "<table border=\"1\" class=\"dataframe\">\n",
       "  <thead>\n",
       "    <tr style=\"text-align: right;\">\n",
       "      <th></th>\n",
       "      <th>id</th>\n",
       "      <th>instructions</th>\n",
       "      <th>summary</th>\n",
       "    </tr>\n",
       "  </thead>\n",
       "  <tbody>\n",
       "    <tr>\n",
       "      <th>0</th>\n",
       "      <td>715495</td>\n",
       "      <td>Heat up your grill to 450 degrees.Start off wi...</td>\n",
       "      <td>Turkey Tomato Cheese Pizza might be just the &lt;...</td>\n",
       "    </tr>\n",
       "    <tr>\n",
       "      <th>1</th>\n",
       "      <td>665282</td>\n",
       "      <td>In a small saucepan, bring the 1 cup water and...</td>\n",
       "      <td>You can never have too many bread recipes, so ...</td>\n",
       "    </tr>\n",
       "    <tr>\n",
       "      <th>2</th>\n",
       "      <td>632197</td>\n",
       "      <td>&lt;ol&gt;&lt;li&gt;1. Preheat oven to 350 degrees (325 if...</td>\n",
       "      <td>Almond Toffee Bars is a dessert that serves 1....</td>\n",
       "    </tr>\n",
       "    <tr>\n",
       "      <th>3</th>\n",
       "      <td>658536</td>\n",
       "      <td>Preheat oven to 425 degrees Farenheit.\\nSpread...</td>\n",
       "      <td>Roasted Cauliflower and Leek Soup is a &lt;b&gt;glut...</td>\n",
       "    </tr>\n",
       "    <tr>\n",
       "      <th>4</th>\n",
       "      <td>639836</td>\n",
       "      <td>Pat and dry fish fillets. Sprinkle both sides ...</td>\n",
       "      <td>Coconut-Almond Crusted Tilapia requires approx...</td>\n",
       "    </tr>\n",
       "    <tr>\n",
       "      <th>...</th>\n",
       "      <td>...</td>\n",
       "      <td>...</td>\n",
       "      <td>...</td>\n",
       "    </tr>\n",
       "    <tr>\n",
       "      <th>1005</th>\n",
       "      <td>716202</td>\n",
       "      <td>Soak the dried fenugreek leaves in warm water ...</td>\n",
       "      <td>Fenugreek Roti requires roughly &lt;b&gt;45 minutes&lt;...</td>\n",
       "    </tr>\n",
       "    <tr>\n",
       "      <th>1006</th>\n",
       "      <td>632071</td>\n",
       "      <td>&lt;ol&gt;&lt;li&gt;Heat the olive oil in a large skillet....</td>\n",
       "      <td>The recipe All American Sloppy Joes could sati...</td>\n",
       "    </tr>\n",
       "    <tr>\n",
       "      <th>1007</th>\n",
       "      <td>648474</td>\n",
       "      <td>In a pan over medium heat, add oil, garlic and...</td>\n",
       "      <td>Japanese Fried Rice is a &lt;b&gt;gluten free and da...</td>\n",
       "    </tr>\n",
       "    <tr>\n",
       "      <th>1008</th>\n",
       "      <td>662376</td>\n",
       "      <td>&lt;ol&gt;&lt;li&gt;In a large heavy pot set over high hea...</td>\n",
       "      <td>If you want to add more &lt;b&gt;gluten free&lt;/b&gt; rec...</td>\n",
       "    </tr>\n",
       "    <tr>\n",
       "      <th>1009</th>\n",
       "      <td>638343</td>\n",
       "      <td>&lt;ol&gt;&lt;li&gt;Slice the onions, slit the chillies, c...</td>\n",
       "      <td>Chicken Stew For The Soul could be just the &lt;b...</td>\n",
       "    </tr>\n",
       "  </tbody>\n",
       "</table>\n",
       "<p>1010 rows × 3 columns</p>\n",
       "</div>"
      ],
      "text/plain": [
       "          id                                       instructions   \n",
       "0     715495  Heat up your grill to 450 degrees.Start off wi...  \\\n",
       "1     665282  In a small saucepan, bring the 1 cup water and...   \n",
       "2     632197  <ol><li>1. Preheat oven to 350 degrees (325 if...   \n",
       "3     658536  Preheat oven to 425 degrees Farenheit.\\nSpread...   \n",
       "4     639836  Pat and dry fish fillets. Sprinkle both sides ...   \n",
       "...      ...                                                ...   \n",
       "1005  716202  Soak the dried fenugreek leaves in warm water ...   \n",
       "1006  632071  <ol><li>Heat the olive oil in a large skillet....   \n",
       "1007  648474  In a pan over medium heat, add oil, garlic and...   \n",
       "1008  662376  <ol><li>In a large heavy pot set over high hea...   \n",
       "1009  638343  <ol><li>Slice the onions, slit the chillies, c...   \n",
       "\n",
       "                                                summary  \n",
       "0     Turkey Tomato Cheese Pizza might be just the <...  \n",
       "1     You can never have too many bread recipes, so ...  \n",
       "2     Almond Toffee Bars is a dessert that serves 1....  \n",
       "3     Roasted Cauliflower and Leek Soup is a <b>glut...  \n",
       "4     Coconut-Almond Crusted Tilapia requires approx...  \n",
       "...                                                 ...  \n",
       "1005  Fenugreek Roti requires roughly <b>45 minutes<...  \n",
       "1006  The recipe All American Sloppy Joes could sati...  \n",
       "1007  Japanese Fried Rice is a <b>gluten free and da...  \n",
       "1008  If you want to add more <b>gluten free</b> rec...  \n",
       "1009  Chicken Stew For The Soul could be just the <b...  \n",
       "\n",
       "[1010 rows x 3 columns]"
      ]
     },
     "execution_count": 95,
     "metadata": {},
     "output_type": "execute_result"
    }
   ],
   "source": [
    "conn = sqlite3.connect('../Data/Supermarket.db')\n",
    "\n",
    "query = \"SELECT id, instructions, summary FROM Recipes\"\n",
    "\n",
    "df = pd.read_sql_query(query, conn)\n",
    "\n",
    "conn.commit()\n",
    "conn.close()\n",
    "df"
   ]
  },
  {
   "attachments": {},
   "cell_type": "markdown",
   "metadata": {},
   "source": [
    "create a column with summary + instruction (in text format not html)"
   ]
  },
  {
   "cell_type": "code",
   "execution_count": 96,
   "metadata": {},
   "outputs": [],
   "source": [
    "df['instructions'] = df['instructions'].astype('str')\n",
    "df['summary'] = df['summary'].astype('str')"
   ]
  },
  {
   "cell_type": "code",
   "execution_count": 97,
   "metadata": {},
   "outputs": [],
   "source": [
    "from bs4 import BeautifulSoup\n",
    "\n",
    "def remove_html_tags(text):\n",
    "    soup = BeautifulSoup(text, \"html.parser\")\n",
    "    cleaned_text = soup.get_text()\n",
    "    return cleaned_text\n"
   ]
  },
  {
   "cell_type": "code",
   "execution_count": 98,
   "metadata": {},
   "outputs": [
    {
     "name": "stderr",
     "output_type": "stream",
     "text": [
      "C:\\Users\\sacha\\AppData\\Local\\Temp\\ipykernel_17168\\3658179466.py:4: MarkupResemblesLocatorWarning: The input looks more like a filename than markup. You may want to open this file and pass the filehandle into Beautiful Soup.\n",
      "  soup = BeautifulSoup(text, \"html.parser\")\n"
     ]
    }
   ],
   "source": [
    "df['description'] = df['summary'].apply(remove_html_tags) + df['instructions'].apply(remove_html_tags)"
   ]
  },
  {
   "attachments": {},
   "cell_type": "markdown",
   "metadata": {},
   "source": [
    "preprocess the column"
   ]
  },
  {
   "cell_type": "code",
   "execution_count": 99,
   "metadata": {},
   "outputs": [
    {
     "name": "stderr",
     "output_type": "stream",
     "text": [
      "[nltk_data] Downloading package stopwords to\n",
      "[nltk_data]     C:\\Users\\sacha\\AppData\\Roaming\\nltk_data...\n",
      "[nltk_data]   Package stopwords is already up-to-date!\n",
      "[nltk_data] Downloading package punkt to\n",
      "[nltk_data]     C:\\Users\\sacha\\AppData\\Roaming\\nltk_data...\n",
      "[nltk_data]   Package punkt is already up-to-date!\n"
     ]
    }
   ],
   "source": [
    "import nltk\n",
    "from nltk.corpus import stopwords\n",
    "from nltk.tokenize import word_tokenize\n",
    "import string\n",
    "\n",
    "# Charger les stopwords\n",
    "nltk.download('stopwords')\n",
    "nltk.download('punkt')\n",
    "\n",
    "# Définir les stopwords et la ponctuation à supprimer\n",
    "stop_words = set(stopwords.words('english'))\n",
    "punctuation = set(string.punctuation)"
   ]
  },
  {
   "cell_type": "code",
   "execution_count": 100,
   "metadata": {},
   "outputs": [],
   "source": [
    "def pre_process_text(text: str)-> str:\n",
    "    \"\"\" \n",
    "    the function will preprocess and return the overview\n",
    "    Lowercase, delete stop words and punctuation\n",
    "    \"\"\"\n",
    "    global stop_words\n",
    "    global punctuation\n",
    "\n",
    "    # Tokenisation des mots\n",
    "    tokens = word_tokenize(text.lower())\n",
    "    # Suppression des stopwords et de la ponctuation\n",
    "    tokens = [w for w in tokens if not w in stop_words and not w in punctuation]\n",
    "    \n",
    "    # Rejoindre les mots restants en un seul texte\n",
    "    cleaned_text = \" \".join(tokens)\n",
    "    return cleaned_text"
   ]
  },
  {
   "cell_type": "code",
   "execution_count": 101,
   "metadata": {},
   "outputs": [],
   "source": [
    "df['description']= df['description'].apply(pre_process_text)"
   ]
  },
  {
   "attachments": {},
   "cell_type": "markdown",
   "metadata": {},
   "source": [
    "tfidf matrix:"
   ]
  },
  {
   "cell_type": "code",
   "execution_count": 102,
   "metadata": {},
   "outputs": [
    {
     "name": "stdout",
     "output_type": "stream",
     "text": [
      "matrix size : (1010, 6818)\n"
     ]
    }
   ],
   "source": [
    "from sklearn.feature_extraction.text import TfidfVectorizer\n",
    "\n",
    "description_list = df['description'].tolist()\n",
    "\n",
    "tfidf_vectorizer = TfidfVectorizer()\n",
    "\n",
    "tfidf_matrix = tfidf_vectorizer.fit_transform(description_list)\n",
    "\n",
    "print(\"matrix size :\", tfidf_matrix.shape)"
   ]
  },
  {
   "attachments": {},
   "cell_type": "markdown",
   "metadata": {},
   "source": [
    "cosine similarity:"
   ]
  },
  {
   "cell_type": "code",
   "execution_count": 103,
   "metadata": {},
   "outputs": [
    {
     "name": "stdout",
     "output_type": "stream",
     "text": [
      "matrix size : (1010, 1010)\n"
     ]
    }
   ],
   "source": [
    "from sklearn.metrics.pairwise import cosine_similarity\n",
    "#30 sec\n",
    "\n",
    "tfidf_matrix = tfidf_matrix.astype('float32')  #takes less time\n",
    "\n",
    "similarity_matrix = cosine_similarity(tfidf_matrix, tfidf_matrix)\n",
    "\n",
    "print(\"matrix size :\", similarity_matrix.shape)"
   ]
  },
  {
   "attachments": {},
   "cell_type": "markdown",
   "metadata": {},
   "source": [
    "## create the differents command\n",
    "for each users: if random(0,1) < similarity(fav_recepie) then add a command"
   ]
  },
  {
   "cell_type": "code",
   "execution_count": 104,
   "metadata": {},
   "outputs": [],
   "source": [
    "conn = sqlite3.connect('../Data/Supermarket.db')\n",
    "\n",
    "query = \"SELECT * FROM Users\"\n",
    "\n",
    "df_users = pd.read_sql_query(query, conn)\n",
    "\n",
    "conn.commit()\n",
    "conn.close()"
   ]
  },
  {
   "cell_type": "code",
   "execution_count": 105,
   "metadata": {},
   "outputs": [],
   "source": [
    "import random"
   ]
  },
  {
   "cell_type": "code",
   "execution_count": 106,
   "metadata": {},
   "outputs": [],
   "source": [
    "list_rec = []\n",
    "list_user = []\n",
    "\n",
    "for i in range(len(df_users)):\n",
    "    #get the favourite recepie of the client\n",
    "    fav_rec_id = df_users.iloc[i]['recepie_id']\n",
    "    #get the client's id\n",
    "    user_id = df_users.iloc[i]['id']\n",
    "    \n",
    "    #get the position of the recepie in the matrix\n",
    "    position = df[df['id'] == fav_rec_id].index[0]\n",
    "\n",
    "    #add the recepie that respect the treshold\n",
    "    treshold = random.random()\n",
    "    for r in range(len(df)):\n",
    "        similarity_coef = similarity_matrix[position][r]\n",
    "\n",
    "        if treshold < similarity_coef:\n",
    "            recepie_id = df.iloc[r]['id']\n",
    "            list_rec.extend([recepie_id])\n",
    "            list_user.extend([user_id])\n",
    "\n",
    "df_command = pd.DataFrame({'user_id': list_user, 'recepie_id': list_rec })"
   ]
  },
  {
   "attachments": {},
   "cell_type": "markdown",
   "metadata": {},
   "source": [
    "## add it to the database"
   ]
  },
  {
   "cell_type": "code",
   "execution_count": 107,
   "metadata": {},
   "outputs": [],
   "source": [
    "#push this dataset as a table in the db\n",
    "conn = sqlite3.connect('../Data/Supermarket.db')\n",
    "\n",
    "df_command.to_sql('Commands', conn, if_exists='replace', index=False)\n",
    "\n",
    "conn.commit()\n",
    "conn.close()"
   ]
  }
 ],
 "metadata": {
  "kernelspec": {
   "display_name": "Python 3",
   "language": "python",
   "name": "python3"
  },
  "language_info": {
   "codemirror_mode": {
    "name": "ipython",
    "version": 3
   },
   "file_extension": ".py",
   "mimetype": "text/x-python",
   "name": "python",
   "nbconvert_exporter": "python",
   "pygments_lexer": "ipython3",
   "version": "3.11.3"
  },
  "orig_nbformat": 4
 },
 "nbformat": 4,
 "nbformat_minor": 2
}
