{
 "cells": [
  {
   "attachments": {},
   "cell_type": "markdown",
   "metadata": {},
   "source": [
    "# Clean raw data\n",
    "\n",
    "a csv file with differents recipes has been created in the notebook [get_from_api](get_from_api.ipynb), this file containraw data. The objective of this notebook will be to clean this data a create a database (with sql)"
   ]
  },
  {
   "cell_type": "code",
   "execution_count": 269,
   "metadata": {},
   "outputs": [],
   "source": [
    "import pandas as pd\n",
    "import numpy as np"
   ]
  },
  {
   "cell_type": "code",
   "execution_count": 270,
   "metadata": {},
   "outputs": [
    {
     "name": "stdout",
     "output_type": "stream",
     "text": [
      "<class 'pandas.core.frame.DataFrame'>\n",
      "RangeIndex: 1393 entries, 0 to 1392\n",
      "Data columns (total 7 columns):\n",
      " #   Column               Non-Null Count  Dtype \n",
      "---  ------               --------------  ----- \n",
      " 0   id                   1393 non-null   int64 \n",
      " 1   image                1393 non-null   object\n",
      " 2   sourceUrl            1393 non-null   object\n",
      " 3   title                1393 non-null   object\n",
      " 4   instructions         1369 non-null   object\n",
      " 5   summary              1393 non-null   object\n",
      " 6   extendedIngredients  1393 non-null   object\n",
      "dtypes: int64(1), object(6)\n",
      "memory usage: 76.3+ KB\n"
     ]
    },
    {
     "data": {
      "text/html": [
       "<div>\n",
       "<style scoped>\n",
       "    .dataframe tbody tr th:only-of-type {\n",
       "        vertical-align: middle;\n",
       "    }\n",
       "\n",
       "    .dataframe tbody tr th {\n",
       "        vertical-align: top;\n",
       "    }\n",
       "\n",
       "    .dataframe thead th {\n",
       "        text-align: right;\n",
       "    }\n",
       "</style>\n",
       "<table border=\"1\" class=\"dataframe\">\n",
       "  <thead>\n",
       "    <tr style=\"text-align: right;\">\n",
       "      <th></th>\n",
       "      <th>id</th>\n",
       "      <th>image</th>\n",
       "      <th>sourceUrl</th>\n",
       "      <th>title</th>\n",
       "      <th>instructions</th>\n",
       "      <th>summary</th>\n",
       "      <th>extendedIngredients</th>\n",
       "    </tr>\n",
       "  </thead>\n",
       "  <tbody>\n",
       "    <tr>\n",
       "      <th>0</th>\n",
       "      <td>715495</td>\n",
       "      <td>https://spoonacular.com/recipeImages/715495-55...</td>\n",
       "      <td>http://www.pinkwhen.com/turkey-tomato-cheese-p...</td>\n",
       "      <td>Turkey Tomato Cheese Pizza</td>\n",
       "      <td>Heat up your grill to 450 degrees.Start off wi...</td>\n",
       "      <td>Turkey Tomato Cheese Pizza might be just the &lt;...</td>\n",
       "      <td>[{'id': 11333, 'aisle': 'Produce', 'image': 'g...</td>\n",
       "    </tr>\n",
       "    <tr>\n",
       "      <th>1</th>\n",
       "      <td>665282</td>\n",
       "      <td>https://spoonacular.com/recipeImages/665282-55...</td>\n",
       "      <td>https://www.foodista.com/recipe/MQZZ3YMC/whole...</td>\n",
       "      <td>Whole Wheat Dinner Rolls</td>\n",
       "      <td>In a small saucepan, bring the 1 cup water and...</td>\n",
       "      <td>You can never have too many bread recipes, so ...</td>\n",
       "      <td>[{'id': 14412, 'aisle': 'Beverages', 'image': ...</td>\n",
       "    </tr>\n",
       "    <tr>\n",
       "      <th>2</th>\n",
       "      <td>632197</td>\n",
       "      <td>https://spoonacular.com/recipeImages/632197-55...</td>\n",
       "      <td>http://www.foodista.com/recipe/Y26QLV35/almond...</td>\n",
       "      <td>Almond Toffee Bars</td>\n",
       "      <td>&lt;ol&gt;&lt;li&gt;1. Preheat oven to 350 degrees (325 if...</td>\n",
       "      <td>Almond Toffee Bars is a dessert that serves 1....</td>\n",
       "      <td>[{'id': 1002050, 'aisle': 'Baking', 'image': '...</td>\n",
       "    </tr>\n",
       "    <tr>\n",
       "      <th>3</th>\n",
       "      <td>658536</td>\n",
       "      <td>https://spoonacular.com/recipeImages/658536-55...</td>\n",
       "      <td>https://www.foodista.com/recipe/C3QSZ5T7/roast...</td>\n",
       "      <td>Roasted Cauliflower and Leek Soup</td>\n",
       "      <td>Preheat oven to 425 degrees Farenheit.\\nSpread...</td>\n",
       "      <td>Roasted Cauliflower and Leek Soup is a &lt;b&gt;glut...</td>\n",
       "      <td>[{'id': 11135, 'aisle': 'Produce', 'image': 'c...</td>\n",
       "    </tr>\n",
       "    <tr>\n",
       "      <th>4</th>\n",
       "      <td>639836</td>\n",
       "      <td>https://spoonacular.com/recipeImages/639836-55...</td>\n",
       "      <td>https://www.foodista.com/recipe/LDHBBCLQ/cocon...</td>\n",
       "      <td>Coconut-Almond Crusted Tilapia</td>\n",
       "      <td>Pat and dry fish fillets. Sprinkle both sides ...</td>\n",
       "      <td>Coconut-Almond Crusted Tilapia requires approx...</td>\n",
       "      <td>[{'id': 15261, 'aisle': 'Seafood', 'image': 'r...</td>\n",
       "    </tr>\n",
       "  </tbody>\n",
       "</table>\n",
       "</div>"
      ],
      "text/plain": [
       "       id                                              image   \n",
       "0  715495  https://spoonacular.com/recipeImages/715495-55...  \\\n",
       "1  665282  https://spoonacular.com/recipeImages/665282-55...   \n",
       "2  632197  https://spoonacular.com/recipeImages/632197-55...   \n",
       "3  658536  https://spoonacular.com/recipeImages/658536-55...   \n",
       "4  639836  https://spoonacular.com/recipeImages/639836-55...   \n",
       "\n",
       "                                           sourceUrl   \n",
       "0  http://www.pinkwhen.com/turkey-tomato-cheese-p...  \\\n",
       "1  https://www.foodista.com/recipe/MQZZ3YMC/whole...   \n",
       "2  http://www.foodista.com/recipe/Y26QLV35/almond...   \n",
       "3  https://www.foodista.com/recipe/C3QSZ5T7/roast...   \n",
       "4  https://www.foodista.com/recipe/LDHBBCLQ/cocon...   \n",
       "\n",
       "                               title   \n",
       "0         Turkey Tomato Cheese Pizza  \\\n",
       "1           Whole Wheat Dinner Rolls   \n",
       "2                 Almond Toffee Bars   \n",
       "3  Roasted Cauliflower and Leek Soup   \n",
       "4     Coconut-Almond Crusted Tilapia   \n",
       "\n",
       "                                        instructions   \n",
       "0  Heat up your grill to 450 degrees.Start off wi...  \\\n",
       "1  In a small saucepan, bring the 1 cup water and...   \n",
       "2  <ol><li>1. Preheat oven to 350 degrees (325 if...   \n",
       "3  Preheat oven to 425 degrees Farenheit.\\nSpread...   \n",
       "4  Pat and dry fish fillets. Sprinkle both sides ...   \n",
       "\n",
       "                                             summary   \n",
       "0  Turkey Tomato Cheese Pizza might be just the <...  \\\n",
       "1  You can never have too many bread recipes, so ...   \n",
       "2  Almond Toffee Bars is a dessert that serves 1....   \n",
       "3  Roasted Cauliflower and Leek Soup is a <b>glut...   \n",
       "4  Coconut-Almond Crusted Tilapia requires approx...   \n",
       "\n",
       "                                 extendedIngredients  \n",
       "0  [{'id': 11333, 'aisle': 'Produce', 'image': 'g...  \n",
       "1  [{'id': 14412, 'aisle': 'Beverages', 'image': ...  \n",
       "2  [{'id': 1002050, 'aisle': 'Baking', 'image': '...  \n",
       "3  [{'id': 11135, 'aisle': 'Produce', 'image': 'c...  \n",
       "4  [{'id': 15261, 'aisle': 'Seafood', 'image': 'r...  "
      ]
     },
     "execution_count": 270,
     "metadata": {},
     "output_type": "execute_result"
    }
   ],
   "source": [
    "df = pd.read_csv('../Data/raw_recipe.csv')\n",
    "df.info()\n",
    "df.head(5)"
   ]
  },
  {
   "attachments": {},
   "cell_type": "markdown",
   "metadata": {},
   "source": [
    "## clean data\n",
    "\n",
    "* delete duplicates\n",
    "* clean the columns:id, image, sourceUrl and title are already usable as such. instructions and summary are html code, we will keep this format (at least for now). The column which is more tricky to clean is extendedIngredients (that we will rename ingredients)\n",
    "\n",
    "extendedIngredients is a list of dictionnaries. From this dictionnary we will keep the folowwing keys:\n",
    "\n",
    "* id: the id of the ingredient\n",
    "* aisle: could give us an idea of the ecological impact of the ingredient (we will see if we can use it later)\n",
    "* nameClean: the name of the ingredient\n",
    "* amount: the quantity needed\n",
    "* unit: unit of 'amount'\n"
   ]
  },
  {
   "cell_type": "code",
   "execution_count": 271,
   "metadata": {},
   "outputs": [],
   "source": [
    "#delete the duplicates \n",
    "df = df.drop_duplicates(subset=['id'])"
   ]
  },
  {
   "cell_type": "code",
   "execution_count": 272,
   "metadata": {},
   "outputs": [],
   "source": [
    "import ast\n",
    "\n",
    "def clean_ingredients(ingredients: str) -> list:\n",
    "    \"\"\" \n",
    "    ingredients is a list of dictionnaries but is has the type of a string.\n",
    "    for each dictionnaries contained in ingredients, keep only the keys: id, aisle, nameClean, amount, unit\n",
    "    return the cleaned list of dictionnaries.\n",
    "    \"\"\"\n",
    "    ingredients = ast.literal_eval(ingredients) #the column contains string, we want it to be a list\n",
    "    cleaned_list = []\n",
    "\n",
    "    for ingredient in ingredients:\n",
    "        cleaned_dict = {key: value for key, value in ingredient.items() if key in ['id', 'aisle', 'nameClean', 'amount', 'unit']}\n",
    "        cleaned_list.append(cleaned_dict)\n",
    "\n",
    "    return cleaned_list\n"
   ]
  },
  {
   "cell_type": "code",
   "execution_count": 273,
   "metadata": {},
   "outputs": [],
   "source": [
    "df['ingredients'] = df['extendedIngredients'].apply(clean_ingredients)"
   ]
  },
  {
   "attachments": {},
   "cell_type": "markdown",
   "metadata": {},
   "source": [
    "# Create the db\n",
    "the app will iteract with the database with SQL. It is now time to create a database.\n",
    "\n",
    "__TABLE Recipes__:\n",
    "\n",
    "| id          | image | sourceUrl | title | instructions | ingredients |\n",
    "|-------------|-------|-----------|-------|--------------|-------------|\n",
    "| PRIMARY KEY |       |           |       |              |             |\n",
    "\n",
    "ingredients column will contain the id of the ingredient, the amount needed and the unit\n",
    "\n",
    "\n",
    "__TABLE Ingredients__:\n",
    "\n",
    "| id          | aisle | name|\n",
    "|-------------|-------|-----|\n",
    "| PRIMARY KEY |       |     |\n",
    "\n",
    "Note that ingredients of Recipes do not reference id of the table Ingredients because the column multiple ingredients"
   ]
  },
  {
   "attachments": {},
   "cell_type": "markdown",
   "metadata": {},
   "source": [
    "### split the ingredient columns as wanted"
   ]
  },
  {
   "cell_type": "code",
   "execution_count": 274,
   "metadata": {},
   "outputs": [],
   "source": [
    "def get_all_ingredients(ingredients: list) -> list:\n",
    "    \"\"\"\n",
    "    for each dictionnary of the list list\n",
    "    keep only the keys : id, aisle, nameClean\n",
    "    \"\"\"\n",
    "    cleaned_list=[]\n",
    "    for ingredient in ingredients:\n",
    "        clean_dict = {key: value for key, value in ingredient.items() if key in ['id', 'aisle', 'nameClean']}\n",
    "        cleaned_list.append(clean_dict)\n",
    "\n",
    "    return cleaned_list\n"
   ]
  },
  {
   "cell_type": "code",
   "execution_count": 275,
   "metadata": {},
   "outputs": [],
   "source": [
    "def get_recipes_table(ingredients: list) -> list:\n",
    "    \"\"\"\n",
    "    for each dictionnary of the list list\n",
    "    keep only the keys : id, amount, unit\n",
    "    return the list of dictionnaries\n",
    "    \"\"\"\n",
    "    cleaned_list=[]\n",
    "    for ingredient in ingredients:\n",
    "        clean_dict = {key: value for key, value in ingredient.items() if key in ['id', 'amount', 'unit']}\n",
    "        cleaned_list.append(clean_dict)\n",
    "\n",
    "    return cleaned_list"
   ]
  },
  {
   "cell_type": "code",
   "execution_count": 276,
   "metadata": {},
   "outputs": [],
   "source": [
    "all_ingr_duplicates = df['ingredients'].apply(get_all_ingredients)\n",
    "df['ingredients'] = df['ingredients'].apply(get_recipes_table)"
   ]
  },
  {
   "attachments": {},
   "cell_type": "markdown",
   "metadata": {},
   "source": [
    "### creation of a dataframe with all the ingredients"
   ]
  },
  {
   "cell_type": "code",
   "execution_count": 277,
   "metadata": {},
   "outputs": [],
   "source": [
    "list_ingr = []\n",
    "list_id = []\n",
    "\n",
    "for recipe in all_ingr_duplicates:\n",
    "    for ingredient in recipe:\n",
    "        if ingredient['id'] in list_id:\n",
    "            continue\n",
    "        else:\n",
    "            new_row = {'id': ingredient['id'], 'aisle': ingredient['aisle'], 'name': ingredient['nameClean']}\n",
    "            list_ingr.append(new_row)\n",
    "            list_id.extend([ingredient['id']])\n",
    "\n",
    "df_ingr = pd.DataFrame(list_ingr)\n"
   ]
  },
  {
   "attachments": {},
   "cell_type": "markdown",
   "metadata": {},
   "source": [
    "### now create the database"
   ]
  },
  {
   "cell_type": "code",
   "execution_count": 278,
   "metadata": {},
   "outputs": [],
   "source": [
    "#sql do not accept lists of value, transform them in strings\n",
    "df['ingredients'] = df['ingredients'].astype('string')"
   ]
  },
  {
   "cell_type": "code",
   "execution_count": 279,
   "metadata": {},
   "outputs": [],
   "source": [
    "import sqlite3\n",
    "\n",
    "#connection to the db (create it if it does not exist)\n",
    "conn = sqlite3.connect('../Data/Supermarket.db')\n",
    "\n",
    "df.to_sql('Recipes', conn, if_exists='replace', index=False)\n",
    "df_ingr.to_sql('Ingredients', conn, if_exists='replace', index=False)\n",
    "\n",
    "conn.commit()\n",
    "conn.close()"
   ]
  },
  {
   "cell_type": "code",
   "execution_count": 280,
   "metadata": {},
   "outputs": [],
   "source": [
    "# No constraints are added, it would not be usefull in our case and sqlite3 do not support some functions, \n",
    "# for example it is impossible to add a constraint primary key directly to a table, you have to\n",
    "# create a table directly with the constraint and add data in it\n",
    "# we won't do it here"
   ]
  }
 ],
 "metadata": {
  "kernelspec": {
   "display_name": "Python 3",
   "language": "python",
   "name": "python3"
  },
  "language_info": {
   "codemirror_mode": {
    "name": "ipython",
    "version": 3
   },
   "file_extension": ".py",
   "mimetype": "text/x-python",
   "name": "python",
   "nbconvert_exporter": "python",
   "pygments_lexer": "ipython3",
   "version": "3.11.3"
  },
  "orig_nbformat": 4
 },
 "nbformat": 4,
 "nbformat_minor": 2
}
