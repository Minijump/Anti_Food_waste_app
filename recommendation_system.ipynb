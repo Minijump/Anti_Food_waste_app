{
 "cells": [
  {
   "attachments": {},
   "cell_type": "markdown",
   "metadata": {},
   "source": [
    "# Recommendation system\n",
    "\n",
    "The recommendation system will maximize the number of product that are saved from expiration and the client preferences. The recommendation system need thus 3 parts, one that compute the number of saved products, one that compute the preferences of the client and one function that joins the 2 variables and find the maximum."
   ]
  },
  {
   "attachments": {},
   "cell_type": "markdown",
   "metadata": {},
   "source": [
    "We will a first import all recipes id with their ingredients, and 'clean' the ingredients column to get only a list of ingredient id."
   ]
  },
  {
   "cell_type": "code",
   "execution_count": 718,
   "metadata": {},
   "outputs": [],
   "source": [
    "import sqlite3\n",
    "import pandas as pd\n",
    "import ast\n",
    "import random"
   ]
  },
  {
   "cell_type": "code",
   "execution_count": 719,
   "metadata": {},
   "outputs": [],
   "source": [
    "def extract_ingredients(row: str) -> list:\n",
    "    \"\"\" \n",
    "    the function take a list of dictionnaries under the str format,\n",
    "    return all the value of the keys 'id' into a list\n",
    "    \"\"\"\n",
    "    row = ast.literal_eval(row)\n",
    "    ingr_list = []\n",
    "\n",
    "    for ingr in row:\n",
    "        ingr_list.extend([ingr['id']])\n",
    "\n",
    "    return ingr_list"
   ]
  },
  {
   "cell_type": "code",
   "execution_count": 720,
   "metadata": {},
   "outputs": [],
   "source": [
    "# import the data\n",
    "\n",
    "conn = sqlite3.connect('Data/Supermarket.db')\n",
    "\n",
    "query = \"SELECT id, ingredients FROM Recipes\"\n",
    "\n",
    "df_recipe = pd.read_sql_query(query, conn)\n",
    "\n",
    "conn.commit()\n",
    "conn.close()"
   ]
  },
  {
   "cell_type": "code",
   "execution_count": 721,
   "metadata": {},
   "outputs": [],
   "source": [
    "df_recipe['ingredients'] = df_recipe['ingredients'].apply(extract_ingredients)"
   ]
  },
  {
   "attachments": {},
   "cell_type": "markdown",
   "metadata": {},
   "source": [
    "## Compute expiration date parametter\n",
    "\n",
    "Here I will use sql codes. Pandas would be easier and probably even more efficient in this case but I just wanted to do _AS IF_ I had to use SQL."
   ]
  },
  {
   "cell_type": "code",
   "execution_count": 722,
   "metadata": {},
   "outputs": [],
   "source": [
    "# A view is created with the ingredients and their product closer to expiration date\n",
    "\n",
    "conn = sqlite3.connect('Data/Supermarket.db')\n",
    "\n",
    "conn.execute(\"DROP VIEW IF EXISTS ingredients_close_expiration\")\n",
    "query = (\"CREATE VIEW ingredients_close_expiration AS \" \n",
    "         \"SELECT ingredient_id, MAX(urgent) AS max_urgent \" \n",
    "         \"FROM Stocks \" \n",
    "         \"GROUP BY ingredient_id\")\n",
    "\n",
    "conn.execute(query)\n",
    "\n",
    "conn.commit()\n",
    "conn.close()"
   ]
  },
  {
   "cell_type": "code",
   "execution_count": 723,
   "metadata": {},
   "outputs": [],
   "source": [
    "def exp_coef(ingr_ids: list) -> int:\n",
    "    \"\"\" \n",
    "    the function take a list of ingredients ids as input\n",
    "    return the 'coefficient' of saved product\n",
    "    coef = sum(urgent_column) for each ingredients\n",
    "      \n",
    "    \"\"\"\n",
    "    global conn\n",
    "\n",
    "    list_ingr_ids = '(' + str(ingr_ids)[1:-1] + ')' #make it a string\n",
    "\n",
    "    query = (\"SELECT SUM(max_urgent) \" \n",
    "             \"FROM  ingredients_close_expiration \" \n",
    "             f\"WHERE ingredient_id IN {list_ingr_ids}\")\n",
    "    coef = conn.execute(query).fetchone()\n",
    "\n",
    "    return coef[0] if coef is not None else 0\n"
   ]
  },
  {
   "cell_type": "code",
   "execution_count": 724,
   "metadata": {},
   "outputs": [],
   "source": [
    "conn = sqlite3.connect('Data/Supermarket.db')\n",
    "\n",
    "df_recipe['saved_coef'] = df_recipe['ingredients'].apply(exp_coef)\n",
    "\n",
    "conn.commit()\n",
    "conn.close()"
   ]
  },
  {
   "attachments": {},
   "cell_type": "markdown",
   "metadata": {},
   "source": [
    "## User taste suggestion\n",
    "This part of the suggestion algorithm will use naive bayes and the commands table to give a coefficient for each recepie (the higher the coefficient the more likely the user will like the recepie)\n",
    "\n",
    "$$ P(like\\_recipe(i)|all\\_recipe\\_already\\_liked) = P(all\\_recipe\\_already\\_liked|like\\_recipe(i)) * P(like\\_recipe(i))$$\n",
    "\n",
    "with:\n",
    "$$P(like\\_recipe(i)) = \\frac{number\\_people\\_who\\_liked\\_the\\_recipe(i)}{total\\_number\\_of\\_people }$$\n",
    "\n",
    "$$ P(\\text{{all\\_recipe\\_already\\_liked}}|\\text{{like\\_recipe}}(i)) = \\prod_{recipes} \\frac{{\\text{{number\\_people\\_who\\_liked\\_both\\_recipe + 1}}}}{{\\text{{number\\_of\\_people\\_like\\_recipe}}(i)}} $$ \n"
   ]
  },
  {
   "cell_type": "code",
   "execution_count": 725,
   "metadata": {},
   "outputs": [],
   "source": [
    "def a_priori(n_people, recipe_id):\n",
    "    \"\"\" \n",
    "    return the a priori probability \n",
    "    \"\"\"\n",
    "    global conn\n",
    "\n",
    "    query = (\"SELECT number_id \" \n",
    "            \"FROM  id_liked_recipe \"\n",
    "            f\"WHERE recepie_id = {recipe_id}\")\n",
    "    response = conn.execute(query).fetchone()\n",
    "    n_like_tested = response[0]\n",
    "\n",
    "    p_like_tested = n_like_tested / n_people\n",
    "\n",
    "    return p_like_tested"
   ]
  },
  {
   "cell_type": "code",
   "execution_count": 726,
   "metadata": {},
   "outputs": [],
   "source": [
    "def likelihood(recipe_id, user_recipes):\n",
    "    \"\"\"\n",
    "    return the likelihood probability \n",
    "    \"\"\"\n",
    "\n",
    "    global conn\n",
    "    likelihood = 1\n",
    "\n",
    "    query = (\"SELECT number_id, user_ids \"\n",
    "             \"FROM id_liked_recipe \" \n",
    "             f\" WHERE recepie_id = {recipe_id};\")\n",
    "    response = conn.execute(query).fetchone()\n",
    "    liked_recipe_i = response[0]\n",
    "    users_id_recipe_i = list(response[1].split(','))\n",
    "\n",
    "    for recipe in user_recipes:\n",
    "\n",
    "        query = (\"SELECT user_ids \" \n",
    "                \"FROM  id_liked_recipe \"\n",
    "                f\"WHERE recepie_id = {recipe}\")\n",
    "        response = conn.execute(query).fetchone()\n",
    "        user_id_other_recipe = list(response[0].split(','))\n",
    "\n",
    "        common_elements = set(users_id_recipe_i) & set(user_id_other_recipe)\n",
    "        liked_both = len(common_elements)\n",
    "\n",
    "        likelihood *= (1 + liked_both) / (liked_recipe_i)\n",
    "\n",
    "    return likelihood\n"
   ]
  },
  {
   "cell_type": "code",
   "execution_count": 727,
   "metadata": {},
   "outputs": [],
   "source": [
    "def taste_coef(recipe_id: int) ->float:\n",
    "    \"\"\"  \n",
    "    return a probability that the user like the recipe of id 'recipe_id'\n",
    "    \"\"\"\n",
    "    global conn, user_id, n_people, user_recipes\n",
    "\n",
    "    p_a_priori = a_priori(n_people, recipe_id) \n",
    "    likely = likelihood(recipe_id, user_recipes)     \n",
    "\n",
    "    return p_a_priori * likely\n",
    "\n",
    "    \n"
   ]
  },
  {
   "cell_type": "code",
   "execution_count": 728,
   "metadata": {},
   "outputs": [
    {
     "data": {
      "text/plain": [
       "<sqlite3.Cursor at 0x1341752a240>"
      ]
     },
     "execution_count": 728,
     "metadata": {},
     "output_type": "execute_result"
    }
   ],
   "source": [
    "conn = sqlite3.connect('Data/Supermarket.db')\n",
    "\n",
    "#in the app the user id will be a parameter\n",
    "user_id = 3000 #3000 not working\n",
    "\n",
    "#number of people remains the same for each line\n",
    "query = (\"SELECT COUNT(*) \" \n",
    "        \"FROM  Users \")\n",
    "response = conn.execute(query).fetchone()\n",
    "n_people = response[0]\n",
    "\n",
    "# recipe id the user already liked will remains constant too\n",
    "query = (\"SELECT recepie_id \" \n",
    "        \"FROM  Commands \"\n",
    "        f\"WHERE user_id = {user_id}\")\n",
    "response = conn.execute(query).fetchall()\n",
    "user_recipes = [row[0] for row in response]\n",
    "\n",
    "if len(user_recipes) > 15: #takes only 15 results, else it would be too long\n",
    "        user_recipes = random.sample(user_recipes, 15)\n",
    "\n",
    "#create a table that will store all user id that like the recipe for each recipe\n",
    "conn.execute(\"DROP TABLE IF EXISTS id_liked_recipe\")\n",
    "query = (\"CREATE TABLE id_liked_recipe AS \"\n",
    "         \"SELECT recepie_id, GROUP_CONCAT(user_id, ',') AS user_ids, COUNT(user_id) AS number_id \" \n",
    "         \"FROM Commands \" \n",
    "         \"GROUP BY recepie_id;\")\n",
    "conn.execute(query)\n",
    "\n",
    "#add an index on recepie_id, this increase drasticly the speed\n",
    "query = \"DROP INDEX IF EXISTS idx_recepie_id;\"\n",
    "conn.execute(query)\n",
    "query = \"CREATE INDEX idx_recepie_id ON id_liked_recipe (recepie_id);\" \n",
    "conn.execute(query)\n",
    "\n",
    "#print(user_recipes)"
   ]
  },
  {
   "cell_type": "code",
   "execution_count": 729,
   "metadata": {},
   "outputs": [],
   "source": [
    "df_recipe['taste_coef'] = df_recipe['id'].apply(taste_coef)\n",
    "\n",
    "conn.commit()\n",
    "conn.close()"
   ]
  },
  {
   "attachments": {},
   "cell_type": "markdown",
   "metadata": {},
   "source": [
    "## suggestion model\n",
    "In the end, we will normalize the 2 columns, add them and the maximum will be the suggested recipe"
   ]
  },
  {
   "cell_type": "code",
   "execution_count": 730,
   "metadata": {},
   "outputs": [],
   "source": [
    "df_recipe['saved_coef'] = (df_recipe['saved_coef'] - df_recipe['saved_coef'].min()) / (df_recipe['saved_coef'].max() - df_recipe['saved_coef'].min()) / 2 #/2 to balance coefs\n",
    "df_recipe['taste_coef'] = (df_recipe['taste_coef'] - df_recipe['taste_coef'].min()) / (df_recipe['taste_coef'].max() - df_recipe['taste_coef'].min())\n",
    "df_recipe['suggestion_coef'] = df_recipe['saved_coef'] + df_recipe['taste_coef']"
   ]
  },
  {
   "cell_type": "code",
   "execution_count": 731,
   "metadata": {},
   "outputs": [
    {
     "name": "stdout",
     "output_type": "stream",
     "text": [
      "         id                                        ingredients  saved_coef   \n",
      "282  660420  [1002030, 2054, 1052047, 10111143, 10111143, 9...    0.269231  \\\n",
      "\n",
      "     taste_coef  suggestion_coef  \n",
      "282    0.916851         1.186082  \n",
      "          id                                        ingredients  saved_coef   \n",
      "416   645032  [10012023, 98846, 12006, 98863, 98874, 98994, ...    0.148352  \\\n",
      "119   664786  [10023618, 11960, 14412, 11352, 11282, 11960, ...    0.175824   \n",
      "282   660420  [1002030, 2054, 1052047, 10111143, 10111143, 9...    0.269231   \n",
      "94    654534  [1012, 11282, 11215, 11216, 2043, 1002013, 101...    0.247253   \n",
      "884  1098392  [11282, 35137, 20081, 18369, 2047, 1123, 1077,...    0.093407   \n",
      "621   656227  [1002030, 9112, 11109, 4641, 10011282, 2047, 1...    0.098901   \n",
      "995   654654                         [1017, 1032, 12061, 12151]    0.043956   \n",
      "432   715494                     [7013, 10018350, 11282, 93619]    0.049451   \n",
      "573   639599  [14106, 10511297, 10211215, 1082047, 1088, 151...    0.170330   \n",
      "464   796873                    [8212, 9431, 2064, 19296, 1118]    0.071429   \n",
      "840   660884  [4582, 10119296, 10211216, 16124, 6175, 100200...    0.120879   \n",
      "868   660243     [10015002, 18033, 1082047, 11156, 11429, 1145]    0.093407   \n",
      "773   648408  [2026, 2049, 2001, 1002030, 2031, 1002014, 202...    0.230769   \n",
      "397   632017                  [20027, 11291, 6175, 4582, 16161]    0.093407   \n",
      "95    642878  [9296, 4582, 20061, 19908, 2010, 2011, 9299, 2...    0.142857   \n",
      "934   649407  [16058, 10511297, 10511282, 10211215, 1012014,...    0.329670   \n",
      "525   658579    [11213, 10311215, 10010123, 9094, 12151, 19296]    0.098901   \n",
      "522   704655         [1009054, 9040, 1256, 93607, 99185, 12220]    0.060440   \n",
      "107   650632  [15023, 1102047, 1001, 11677, 14106, 6615, 915...    0.153846   \n",
      "470  1082038  [10099239, 9316, 9050, 9040, 1009286, 12155, 1...    0.137363   \n",
      "\n",
      "     taste_coef  suggestion_coef  \n",
      "416    1.000000         1.148352  \n",
      "119    0.984250         1.160074  \n",
      "282    0.916851         1.186082  \n",
      "94     0.894925         1.142178  \n",
      "884    0.840822         0.934228  \n",
      "621    0.832570         0.931472  \n",
      "995    0.803074         0.847030  \n",
      "432    0.770306         0.819756  \n",
      "573    0.755260         0.925590  \n",
      "464    0.716670         0.788098  \n",
      "840    0.712102         0.832982  \n",
      "868    0.692709         0.786115  \n",
      "773    0.651618         0.882387  \n",
      "397    0.635330         0.728736  \n",
      "95     0.634040         0.776897  \n",
      "934    0.622722         0.952393  \n",
      "525    0.615963         0.714865  \n",
      "522    0.615464         0.675903  \n",
      "107    0.597930         0.751776  \n",
      "470    0.593838         0.731201  \n"
     ]
    }
   ],
   "source": [
    "recommendation = df_recipe[df_recipe[\"suggestion_coef\"] == df_recipe[\"suggestion_coef\"].max()]\n",
    "print(recommendation)\n",
    "\n",
    "print(df_recipe.sort_values(by = ['taste_coef'], ascending=False).head(20))"
   ]
  }
 ],
 "metadata": {
  "kernelspec": {
   "display_name": "Python 3",
   "language": "python",
   "name": "python3"
  },
  "language_info": {
   "codemirror_mode": {
    "name": "ipython",
    "version": 3
   },
   "file_extension": ".py",
   "mimetype": "text/x-python",
   "name": "python",
   "nbconvert_exporter": "python",
   "pygments_lexer": "ipython3",
   "version": "3.11.3"
  },
  "orig_nbformat": 4
 },
 "nbformat": 4,
 "nbformat_minor": 2
}
